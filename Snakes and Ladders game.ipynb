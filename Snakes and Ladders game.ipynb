import random
import pickle
import matplotlib.pyplot as plt
import seaborn as sns
import os

class Player:
    def __init__(self, name):
        self.name = name
        self.position = 0
    
    def set_position(self, position):
        self.position = position

class GameBoard:
    def __init__(self, size, snakes, ladders):
        self.size = size
        self.snakes = snakes
        self.ladders = ladders
    
    def get_new_position(self, position):
        if position in self.snakes:
            print(f"Oops! {position} is a snake! Go to {self.snakes[position]}")
            return self.snakes[position]
        elif position in self.ladders:
            print(f"Yay! {position} is a ladder! Go to {self.ladders[position]}")
            return self.ladders[position]
        return position

class SnakesAndLaddersGame:
    def __init__(self, board_size, players, snakes, ladders):
        self.board = GameBoard(board_size, snakes, ladders)
        self.players = players
        self.history = []
        self.turn = 0  # Initialize turn to 0
    
    def play_turn(self):
        print(f"\nTurn index: {self.turn}, Total players: {len(self.players)}")
        current_player = self.players[self.turn]  # Get the current player
        dice_roll = random.randint(1, 6)
        print(f"{current_player.name} rolled a {dice_roll}")
        new_position = current_player.position + dice_roll

        if new_position > self.board.size:
            new_position = current_player.position
        
        new_position = self.board.get_new_position(new_position)
        current_player.set_position(new_position)

        print(f"{current_player.name} is now at position {new_position}")
        self.history.append((current_player.name, new_position))

        if new_position == self.board.size:
            print(f"{current_player.name} wins!")
            self.save_game_history()
            return True

        # Cycle to the next player's turn
        self.turn = (self.turn + 1) % len(self.players)
        return False
    
    def save_game_history(self):
        with open('game_history.pkl', 'wb') as f:
            pickle.dump(self.history, f)
        print("Game history saved.")

    def load_game_history(self):
        if os.path.exists('game_history.pkl'):
            with open('game_history.pkl', 'rb') as f:
                self.history = pickle.load(f)
            print("Game history loaded.")
        else:
            print("No saved game history found.")

    def plot_history(self):
        player_moves = {}
        for player_name, position in self.history:
            if player_name not in player_moves:
                player_moves[player_name] = []
            player_moves[player_name].append(position)

        # Create a line plot of player positions
        plt.figure(figsize=(12, 6))
        for player_name, positions in player_moves.items():
            plt.plot(positions, label=player_name)
        plt.title('Player Moves Over Time')
        plt.xlabel('Turns')
        plt.ylabel('Position')
        plt.axhline(y=self.board.size, color='r', linestyle='--', label='Finish Line')
        plt.legend()
        plt.grid()
        plt.savefig("player_moves.png")
        plt.show()

        # Seaborn plot
        plt.figure(figsize=(12, 6))
        sns.lineplot(data=list(player_moves.values()), palette="tab10")
        plt.title('Player Moves with Seaborn')
        plt.xlabel('Turns')
        plt.ylabel('Position')
        plt.axhline(y=self.board.size, color='r', linestyle='--', label='Finish Line')
        plt.legend(labels=player_moves.keys())
        plt.grid()
        plt.savefig("player_moves_seaborn.png")
        plt.show()

def setup_game():
    board_size = int(input("Enter the board size (e.g., 100 for a 10x10 board): "))
    num_players = int(input("Enter number of players (2-4): "))
    
    # Ensure valid number of players
    if num_players < 2 or num_players > 4:
        raise ValueError("Number of players must be between 2 and 4")

    players = [Player(f"Player {i+1}") for i in range(num_players)]
    print(f"Initialized players: {[player.name for player in players]}")

    snakes = {
        16: 6, 48: 26, 49: 11, 56: 53, 62: 19,
        64: 60, 87: 24, 93: 73, 95: 75, 98: 78
    }
    ladders = {
        1: 38, 4: 14, 9: 31, 21: 42, 28: 84,
        36: 44, 51: 67, 71: 91, 80: 100
    }

    game = SnakesAndLaddersGame(board_size, players, snakes, ladders)
    return game

def main():
    game = setup_game()
    game.load_game_history()  # Load previous game history if available

    while True:
        if game.play_turn():
            break

    # Plot the history of moves
    game.plot_history()

if __name__ == "__main__":
    main()
